{
  "nbformat": 4,
  "nbformat_minor": 0,
  "metadata": {
    "colab": {
      "name": "Copy of SlicedR3.ipynb",
      "provenance": [],
      "collapsed_sections": []
    },
    "kernelspec": {
      "name": "python3",
      "display_name": "Python 3"
    }
  },
  "cells": [
    {
      "cell_type": "markdown",
      "metadata": {
        "id": "QscJZIJ-osiW"
      },
      "source": [
        "SLICED ROUND 3 !!! "
      ]
    },
    {
      "cell_type": "code",
      "metadata": {
        "id": "5Wyi2bCElepu"
      },
      "source": [
        "import pandas as pd\n",
        "import seaborn as sns\n",
        "import matplotlib.pyplot as plt\n",
        "import numpy as np\n",
        "from sklearn.model_selection import train_test_split"
      ],
      "execution_count": null,
      "outputs": []
    },
    {
      "cell_type": "code",
      "metadata": {
        "id": "yR9WwQ3ks6j2"
      },
      "source": [
        "df = pd.read_csv(\"sliced_data.csv\")"
      ],
      "execution_count": null,
      "outputs": []
    },
    {
      "cell_type": "code",
      "metadata": {
        "colab": {
          "base_uri": "https://localhost:8080/",
          "height": 206
        },
        "id": "pcpsav33tFHg",
        "outputId": "229f65bc-39b8-4152-bc34-0565937413fa"
      },
      "source": [
        "df.head()"
      ],
      "execution_count": null,
      "outputs": [
        {
          "output_type": "execute_result",
          "data": {
            "text/html": [
              "<div>\n",
              "<style scoped>\n",
              "    .dataframe tbody tr th:only-of-type {\n",
              "        vertical-align: middle;\n",
              "    }\n",
              "\n",
              "    .dataframe tbody tr th {\n",
              "        vertical-align: top;\n",
              "    }\n",
              "\n",
              "    .dataframe thead th {\n",
              "        text-align: right;\n",
              "    }\n",
              "</style>\n",
              "<table border=\"1\" class=\"dataframe\">\n",
              "  <thead>\n",
              "    <tr style=\"text-align: right;\">\n",
              "      <th></th>\n",
              "      <th>gamename</th>\n",
              "      <th>year</th>\n",
              "      <th>month</th>\n",
              "      <th>avg</th>\n",
              "      <th>gain</th>\n",
              "      <th>peak</th>\n",
              "      <th>avg_peak_perc</th>\n",
              "      <th>month_num</th>\n",
              "      <th>yearmonth</th>\n",
              "      <th>volatile</th>\n",
              "    </tr>\n",
              "  </thead>\n",
              "  <tbody>\n",
              "    <tr>\n",
              "      <th>0</th>\n",
              "      <td>Counter-Strike: Global Offensive</td>\n",
              "      <td>2021</td>\n",
              "      <td>February</td>\n",
              "      <td>741013.24</td>\n",
              "      <td>-2196.42</td>\n",
              "      <td>1123485</td>\n",
              "      <td>65.9567%</td>\n",
              "      <td>2</td>\n",
              "      <td>2021-02-01</td>\n",
              "      <td>1</td>\n",
              "    </tr>\n",
              "    <tr>\n",
              "      <th>1</th>\n",
              "      <td>Dota 2</td>\n",
              "      <td>2021</td>\n",
              "      <td>February</td>\n",
              "      <td>404832.13</td>\n",
              "      <td>-27839.52</td>\n",
              "      <td>651615</td>\n",
              "      <td>62.1275%</td>\n",
              "      <td>2</td>\n",
              "      <td>2021-02-01</td>\n",
              "      <td>-1</td>\n",
              "    </tr>\n",
              "    <tr>\n",
              "      <th>2</th>\n",
              "      <td>PLAYERUNKNOWN'S BATTLEGROUNDS</td>\n",
              "      <td>2021</td>\n",
              "      <td>February</td>\n",
              "      <td>198957.52</td>\n",
              "      <td>-2289.67</td>\n",
              "      <td>447390</td>\n",
              "      <td>44.4707%</td>\n",
              "      <td>2</td>\n",
              "      <td>2021-02-01</td>\n",
              "      <td>1</td>\n",
              "    </tr>\n",
              "    <tr>\n",
              "      <th>3</th>\n",
              "      <td>Apex Legends</td>\n",
              "      <td>2021</td>\n",
              "      <td>February</td>\n",
              "      <td>120982.64</td>\n",
              "      <td>49215.90</td>\n",
              "      <td>196799</td>\n",
              "      <td>61.4752%</td>\n",
              "      <td>2</td>\n",
              "      <td>2021-02-01</td>\n",
              "      <td>1</td>\n",
              "    </tr>\n",
              "    <tr>\n",
              "      <th>4</th>\n",
              "      <td>Rust</td>\n",
              "      <td>2021</td>\n",
              "      <td>February</td>\n",
              "      <td>117742.27</td>\n",
              "      <td>-24374.98</td>\n",
              "      <td>224276</td>\n",
              "      <td>52.4988%</td>\n",
              "      <td>2</td>\n",
              "      <td>2021-02-01</td>\n",
              "      <td>-1</td>\n",
              "    </tr>\n",
              "  </tbody>\n",
              "</table>\n",
              "</div>"
            ],
            "text/plain": [
              "                           gamename  year  ...   yearmonth  volatile\n",
              "0  Counter-Strike: Global Offensive  2021  ...  2021-02-01         1\n",
              "1                            Dota 2  2021  ...  2021-02-01        -1\n",
              "2     PLAYERUNKNOWN'S BATTLEGROUNDS  2021  ...  2021-02-01         1\n",
              "3                      Apex Legends  2021  ...  2021-02-01         1\n",
              "4                              Rust  2021  ...  2021-02-01        -1\n",
              "\n",
              "[5 rows x 10 columns]"
            ]
          },
          "metadata": {
            "tags": []
          },
          "execution_count": 249
        }
      ]
    },
    {
      "cell_type": "code",
      "metadata": {
        "colab": {
          "base_uri": "https://localhost:8080/",
          "height": 296
        },
        "id": "WKaRImW-tGFn",
        "outputId": "53ef3521-dd70-4370-b642-28505ea4517c"
      },
      "source": [
        "sns.scatterplot(data=df, x='avg', y='volatile')"
      ],
      "execution_count": null,
      "outputs": [
        {
          "output_type": "execute_result",
          "data": {
            "text/plain": [
              "<matplotlib.axes._subplots.AxesSubplot at 0x7fa9a9843ed0>"
            ]
          },
          "metadata": {
            "tags": []
          },
          "execution_count": 8
        },
        {
          "output_type": "display_data",
          "data": {
            "image/png": "[encoded data removed]",
            "text/plain": [
              "<Figure size 432x288 with 1 Axes>"
            ]
          },
          "metadata": {
            "tags": [],
            "needs_background": "light"
          }
        }
      ]
    },
    {
      "cell_type": "code",
      "metadata": {
        "colab": {
          "base_uri": "https://localhost:8080/",
          "height": 282
        },
        "id": "l9rSSbd-tj5C",
        "outputId": "2fe8530f-484c-4747-ca4f-8eccbd6acdf6"
      },
      "source": [
        "df['volatile'].hist()"
      ],
      "execution_count": null,
      "outputs": [
        {
          "output_type": "execute_result",
          "data": {
            "text/plain": [
              "<matplotlib.axes._subplots.AxesSubplot at 0x7fa9a4079cd0>"
            ]
          },
          "metadata": {
            "tags": []
          },
          "execution_count": 10
        },
        {
          "output_type": "display_data",
          "data": {
            "image/png": "[encoded data removed]",
            "text/plain": [
              "<Figure size 432x288 with 1 Axes>"
            ]
          },
          "metadata": {
            "tags": [],
            "needs_background": "light"
          }
        }
      ]
    },
    {
      "cell_type": "code",
      "metadata": {
        "colab": {
          "base_uri": "https://localhost:8080/",
          "height": 1000
        },
        "id": "9oAJE4ietvpv",
        "outputId": "7c352ea0-f186-4569-d070-817906383e48"
      },
      "source": [
        "for f in df.columns[df.dtypes != object]:\n",
        "  df[f].hist()\n",
        "  plt.title(f)\n",
        "  plt.show()"
      ],
      "execution_count": null,
      "outputs": [
        {
          "output_type": "display_data",
          "data": {
            "image/png": "[encoded data removed]",
            "text/plain": [
              "<Figure size 432x288 with 1 Axes>"
            ]
          },
          "metadata": {
            "tags": [],
            "needs_background": "light"
          }
        },
        {
          "output_type": "display_data",
          "data": {
            "image/png": "[encoded data removed]",
            "text/plain": [
              "<Figure size 432x288 with 1 Axes>"
            ]
          },
          "metadata": {
            "tags": [],
            "needs_background": "light"
          }
        },
        {
          "output_type": "display_data",
          "data": {
            "image/png": "[encoded data removed]",
            "text/plain": [
              "<Figure size 432x288 with 1 Axes>"
            ]
          },
          "metadata": {
            "tags": [],
            "needs_background": "light"
          }
        },
        {
          "output_type": "display_data",
          "data": {
            "image/png": "[encoded data removed]",
            "text/plain": [
              "<Figure size 432x288 with 1 Axes>"
            ]
          },
          "metadata": {
            "tags": [],
            "needs_background": "light"
          }
        },
        {
          "output_type": "display_data",
          "data": {
            "image/png": "[encoded data removed]",
            "text/plain": [
              "<Figure size 432x288 with 1 Axes>"
            ]
          },
          "metadata": {
            "tags": [],
            "needs_background": "light"
          }
        },
        {
          "output_type": "display_data",
          "data": {
            "image/png": "[encoded data removed]",
            "text/plain": [
              "<Figure size 432x288 with 1 Axes>"
            ]
          },
          "metadata": {
            "tags": [],
            "needs_background": "light"
          }
        }
      ]
    },
    {
      "cell_type": "markdown",
      "metadata": {
        "id": "qWRlGwS3vQkW"
      },
      "source": [
        "Gain has the strongest linear relationship"
      ]
    },
    {
      "cell_type": "code",
      "metadata": {
        "colab": {
          "base_uri": "https://localhost:8080/",
          "height": 336
        },
        "id": "NDBNVHZbuBQR",
        "outputId": "93d4a857-c3b8-4654-f4a0-821173544e3e"
      },
      "source": [
        "sns.heatmap(df.corr('spearman'))"
      ],
      "execution_count": null,
      "outputs": [
        {
          "output_type": "execute_result",
          "data": {
            "text/plain": [
              "<matplotlib.axes._subplots.AxesSubplot at 0x7fa8e75d0510>"
            ]
          },
          "metadata": {
            "tags": []
          },
          "execution_count": 258
        },
        {
          "output_type": "display_data",
          "data": {
            "image/png": "[encoded data removed]",
            "text/plain": [
              "<Figure size 432x288 with 2 Axes>"
            ]
          },
          "metadata": {
            "tags": [],
            "needs_background": "light"
          }
        }
      ]
    },
    {
      "cell_type": "code",
      "metadata": {
        "colab": {
          "base_uri": "https://localhost:8080/",
          "height": 237
        },
        "id": "OGY4sHCGzPvY",
        "outputId": "0d9ae8c3-9131-4ce2-d69f-ff6e90b72e43"
      },
      "source": [
        "df.head(6)"
      ],
      "execution_count": null,
      "outputs": [
        {
          "output_type": "execute_result",
          "data": {
            "text/html": [
              "<div>\n",
              "<style scoped>\n",
              "    .dataframe tbody tr th:only-of-type {\n",
              "        vertical-align: middle;\n",
              "    }\n",
              "\n",
              "    .dataframe tbody tr th {\n",
              "        vertical-align: top;\n",
              "    }\n",
              "\n",
              "    .dataframe thead th {\n",
              "        text-align: right;\n",
              "    }\n",
              "</style>\n",
              "<table border=\"1\" class=\"dataframe\">\n",
              "  <thead>\n",
              "    <tr style=\"text-align: right;\">\n",
              "      <th></th>\n",
              "      <th>gamename</th>\n",
              "      <th>year</th>\n",
              "      <th>month</th>\n",
              "      <th>avg</th>\n",
              "      <th>gain</th>\n",
              "      <th>peak</th>\n",
              "      <th>avg_peak_perc</th>\n",
              "      <th>month_num</th>\n",
              "      <th>yearmonth</th>\n",
              "      <th>volatile</th>\n",
              "    </tr>\n",
              "  </thead>\n",
              "  <tbody>\n",
              "    <tr>\n",
              "      <th>0</th>\n",
              "      <td>Counter-Strike: Global Offensive</td>\n",
              "      <td>2021</td>\n",
              "      <td>February</td>\n",
              "      <td>741013.24</td>\n",
              "      <td>-2196.42</td>\n",
              "      <td>1123485</td>\n",
              "      <td>65.9567%</td>\n",
              "      <td>2</td>\n",
              "      <td>2021-02-01</td>\n",
              "      <td>1</td>\n",
              "    </tr>\n",
              "    <tr>\n",
              "      <th>1</th>\n",
              "      <td>Dota 2</td>\n",
              "      <td>2021</td>\n",
              "      <td>February</td>\n",
              "      <td>404832.13</td>\n",
              "      <td>-27839.52</td>\n",
              "      <td>651615</td>\n",
              "      <td>62.1275%</td>\n",
              "      <td>2</td>\n",
              "      <td>2021-02-01</td>\n",
              "      <td>-1</td>\n",
              "    </tr>\n",
              "    <tr>\n",
              "      <th>2</th>\n",
              "      <td>PLAYERUNKNOWN'S BATTLEGROUNDS</td>\n",
              "      <td>2021</td>\n",
              "      <td>February</td>\n",
              "      <td>198957.52</td>\n",
              "      <td>-2289.67</td>\n",
              "      <td>447390</td>\n",
              "      <td>44.4707%</td>\n",
              "      <td>2</td>\n",
              "      <td>2021-02-01</td>\n",
              "      <td>1</td>\n",
              "    </tr>\n",
              "    <tr>\n",
              "      <th>3</th>\n",
              "      <td>Apex Legends</td>\n",
              "      <td>2021</td>\n",
              "      <td>February</td>\n",
              "      <td>120982.64</td>\n",
              "      <td>49215.90</td>\n",
              "      <td>196799</td>\n",
              "      <td>61.4752%</td>\n",
              "      <td>2</td>\n",
              "      <td>2021-02-01</td>\n",
              "      <td>1</td>\n",
              "    </tr>\n",
              "    <tr>\n",
              "      <th>4</th>\n",
              "      <td>Rust</td>\n",
              "      <td>2021</td>\n",
              "      <td>February</td>\n",
              "      <td>117742.27</td>\n",
              "      <td>-24374.98</td>\n",
              "      <td>224276</td>\n",
              "      <td>52.4988%</td>\n",
              "      <td>2</td>\n",
              "      <td>2021-02-01</td>\n",
              "      <td>-1</td>\n",
              "    </tr>\n",
              "    <tr>\n",
              "      <th>5</th>\n",
              "      <td>Team Fortress 2</td>\n",
              "      <td>2021</td>\n",
              "      <td>February</td>\n",
              "      <td>101230.91</td>\n",
              "      <td>18082.74</td>\n",
              "      <td>133620</td>\n",
              "      <td>75.7603%</td>\n",
              "      <td>2</td>\n",
              "      <td>2021-02-01</td>\n",
              "      <td>1</td>\n",
              "    </tr>\n",
              "  </tbody>\n",
              "</table>\n",
              "</div>"
            ],
            "text/plain": [
              "                           gamename  year  ...   yearmonth  volatile\n",
              "0  Counter-Strike: Global Offensive  2021  ...  2021-02-01         1\n",
              "1                            Dota 2  2021  ...  2021-02-01        -1\n",
              "2     PLAYERUNKNOWN'S BATTLEGROUNDS  2021  ...  2021-02-01         1\n",
              "3                      Apex Legends  2021  ...  2021-02-01         1\n",
              "4                              Rust  2021  ...  2021-02-01        -1\n",
              "5                   Team Fortress 2  2021  ...  2021-02-01         1\n",
              "\n",
              "[6 rows x 10 columns]"
            ]
          },
          "metadata": {
            "tags": []
          },
          "execution_count": 267
        }
      ]
    },
    {
      "cell_type": "code",
      "metadata": {
        "colab": {
          "base_uri": "https://localhost:8080/"
        },
        "id": "qA5BMHQ6xccO",
        "outputId": "e8c936ea-a6c3-45a4-fdc8-a5c415974e39"
      },
      "source": [
        "df[['yearmonth','gamename' ,'gain']].groupby('gamename').apply(lambda x: x.set_index('yearmonth')['gain'].rolling(6).mean())"
      ],
      "execution_count": null,
      "outputs": [
        {
          "output_type": "execute_result",
          "data": {
            "text/plain": [
              "gamename                      yearmonth \n",
              "100% Orange Juice             2021-02-01           NaN\n",
              "                              2021-01-01           NaN\n",
              "                              2020-12-01           NaN\n",
              "                              2020-11-01           NaN\n",
              "                              2020-10-01           NaN\n",
              "                                               ...    \n",
              "theHunter: Call of the Wild  2017-05-01    182.381667\n",
              "                              2017-04-01    -82.865000\n",
              "                              2017-03-01     33.120000\n",
              "                              2017-02-01    218.440000\n",
              "                              2017-01-01    133.205000\n",
              "Name: gain, Length: 82373, dtype: float64"
            ]
          },
          "metadata": {
            "tags": []
          },
          "execution_count": 271
        }
      ]
    },
    {
      "cell_type": "markdown",
      "metadata": {
        "id": "DyxGXztTvrTn"
      },
      "source": [
        "Not bad!"
      ]
    },
    {
      "cell_type": "code",
      "metadata": {
        "colab": {
          "base_uri": "https://localhost:8080/",
          "height": 400
        },
        "id": "KDCUn2EYuZRc",
        "outputId": "4e4a7019-d100-487b-f6c7-15cb0c5139ee"
      },
      "source": [
        "sns.lmplot(x='gain', y='volatile', data=df)"
      ],
      "execution_count": null,
      "outputs": [
        {
          "output_type": "execute_result",
          "data": {
            "text/plain": [
              "<seaborn.axisgrid.FacetGrid at 0x7fa9853ac150>"
            ]
          },
          "metadata": {
            "tags": []
          },
          "execution_count": 30
        },
        {
          "output_type": "display_data",
          "data": {
            "image/png": "[encoded data removed]",
            "text/plain": [
              "<Figure size 360x360 with 1 Axes>"
            ]
          },
          "metadata": {
            "tags": [],
            "needs_background": "light"
          }
        }
      ]
    },
    {
      "cell_type": "code",
      "metadata": {
        "colab": {
          "base_uri": "https://localhost:8080/",
          "height": 387
        },
        "id": "jt6LH1L_vehQ",
        "outputId": "ffd43e51-d0b6-45c4-c0fc-32ef4e9657e8"
      },
      "source": [
        "sns.lmplot(x='peak', y='volatile', data=df)"
      ],
      "execution_count": null,
      "outputs": [
        {
          "output_type": "execute_result",
          "data": {
            "text/plain": [
              "<seaborn.axisgrid.FacetGrid at 0x7fa98516b090>"
            ]
          },
          "metadata": {
            "tags": []
          },
          "execution_count": 31
        },
        {
          "output_type": "display_data",
          "data": {
            "image/png": "[encoded data removed]",
            "text/plain": [
              "<Figure size 360x360 with 1 Axes>"
            ]
          },
          "metadata": {
            "tags": [],
            "needs_background": "light"
          }
        }
      ]
    },
    {
      "cell_type": "code",
      "metadata": {
        "colab": {
          "base_uri": "https://localhost:8080/"
        },
        "id": "d2c5ysTCwGLS",
        "outputId": "2ad68a6e-2a25-4821-8151-d419ea48003c"
      },
      "source": [
        "df.columns"
      ],
      "execution_count": null,
      "outputs": [
        {
          "output_type": "execute_result",
          "data": {
            "text/plain": [
              "Index(['gamename', 'year', 'month', 'avg', 'gain', 'peak', 'avg_peak_perc',\n",
              "       'month_num', 'yearmonth', 'volatile'],\n",
              "      dtype='object')"
            ]
          },
          "metadata": {
            "tags": []
          },
          "execution_count": 32
        }
      ]
    },
    {
      "cell_type": "code",
      "metadata": {
        "id": "6DpNcDjEwAq5"
      },
      "source": [
        "df=df.drop('month',axis=1)"
      ],
      "execution_count": null,
      "outputs": []
    },
    {
      "cell_type": "code",
      "metadata": {
        "id": "KArhS2j0wJk6"
      },
      "source": [
        "df['avg_peak_perc'] = df['avg_peak_perc'].str[:-1].astype(float)"
      ],
      "execution_count": null,
      "outputs": []
    },
    {
      "cell_type": "code",
      "metadata": {
        "id": "sVlImdOzwzcG"
      },
      "source": [
        ""
      ],
      "execution_count": null,
      "outputs": []
    },
    {
      "cell_type": "code",
      "metadata": {
        "id": "4e-JaETHwLNa"
      },
      "source": [
        "from sklearn.decomposition import PCA"
      ],
      "execution_count": null,
      "outputs": []
    },
    {
      "cell_type": "code",
      "metadata": {
        "id": "cDpNtYNwxa2C"
      },
      "source": [
        "import category_encoders as ce\n",
        "from sklearn.pipeline import make_pipeline\n",
        "from sklearn.impute import SimpleImputer"
      ],
      "execution_count": null,
      "outputs": []
    },
    {
      "cell_type": "code",
      "metadata": {
        "colab": {
          "base_uri": "https://localhost:8080/"
        },
        "id": "MlQzwCEQwuIW",
        "outputId": "2718d38e-c98b-44f8-e2e4-b2a19d0662ac"
      },
      "source": [
        "#df = df.drop('gamename', axis=1)\n",
        "df['yearmonth']\n",
        "\n",
        "prep_pipe = make_pipeline(ce.BinaryEncoder(), SimpleImputer())\n",
        "pca_pipe = make_pipeline(ce.BinaryEncoder(), SimpleImputer(), PCA(n_components=2))\n",
        "\n",
        "\n",
        "decomposed = pca_pipe.fit_transform(df)"
      ],
      "execution_count": null,
      "outputs": [
        {
          "output_type": "stream",
          "text": [
            "/usr/local/lib/python3.7/dist-packages/category_encoders/utils.py:21: FutureWarning: is_categorical is deprecated and will be removed in a future version.  Use is_categorical_dtype instead\n",
            "  elif pd.api.types.is_categorical(cols):\n"
          ],
          "name": "stderr"
        }
      ]
    },
    {
      "cell_type": "code",
      "metadata": {
        "id": "RqEO83CwyEIn"
      },
      "source": [
        "decomposed = pd.DataFrame(decomposed, columns=['pc1', 'pc2', 'cluster'])"
      ],
      "execution_count": null,
      "outputs": []
    },
    {
      "cell_type": "code",
      "metadata": {
        "colab": {
          "base_uri": "https://localhost:8080/",
          "height": 312
        },
        "id": "H4-Q6NpLxGq1",
        "outputId": "9c0f96b2-3938-49a4-bacb-b242dd2d48e3"
      },
      "source": [
        "sns.scatterplot(data=decomposed, x='pc1', y='pc2', hue=clusters)\n",
        "plt.title('PCA decomposition with cluster predictions')"
      ],
      "execution_count": null,
      "outputs": [
        {
          "output_type": "execute_result",
          "data": {
            "text/plain": [
              "Text(0.5, 1.0, 'PCA decomposition with cluster predictions')"
            ]
          },
          "metadata": {
            "tags": []
          },
          "execution_count": 82
        },
        {
          "output_type": "display_data",
          "data": {
            "image/png": "[encoded data removed]",
            "text/plain": [
              "<Figure size 432x288 with 1 Axes>"
            ]
          },
          "metadata": {
            "tags": [],
            "needs_background": "light"
          }
        }
      ]
    },
    {
      "cell_type": "markdown",
      "metadata": {
        "id": "HHTsrExw0RFH"
      },
      "source": [
        "Works well without pca"
      ]
    },
    {
      "cell_type": "code",
      "metadata": {
        "colab": {
          "base_uri": "https://localhost:8080/"
        },
        "id": "CILoq4FJyAT-",
        "outputId": "069b7655-a546-4c23-c60d-2a3fd23bb2c9"
      },
      "source": [
        "from sklearn.cluster import k_means\n",
        "k_means_ = k_means(prep_pipe.fit_transform(df.drop('volatile', axis=1)), n_clusters=2)"
      ],
      "execution_count": null,
      "outputs": [
        {
          "output_type": "stream",
          "text": [
            "/usr/local/lib/python3.7/dist-packages/category_encoders/utils.py:21: FutureWarning: is_categorical is deprecated and will be removed in a future version.  Use is_categorical_dtype instead\n",
            "  elif pd.api.types.is_categorical(cols):\n"
          ],
          "name": "stderr"
        }
      ]
    },
    {
      "cell_type": "code",
      "metadata": {
        "id": "ChaWGDi0yngv"
      },
      "source": [
        "clusters = k_means_[1]"
      ],
      "execution_count": null,
      "outputs": []
    },
    {
      "cell_type": "markdown",
      "metadata": {
        "id": "5oDIVtpDzegr"
      },
      "source": [
        "Take these clusters and use them as a feature!!"
      ]
    },
    {
      "cell_type": "code",
      "metadata": {
        "id": "IVsRb4U4z08D"
      },
      "source": [
        "df['cluster'] = clusters"
      ],
      "execution_count": null,
      "outputs": []
    },
    {
      "cell_type": "code",
      "metadata": {
        "colab": {
          "base_uri": "https://localhost:8080/",
          "height": 351
        },
        "id": "p_ZPMBXyz4ek",
        "outputId": "9d7a667e-8d74-4371-e7e2-833b7661fab2"
      },
      "source": [
        "sns.heatmap(df.corr())"
      ],
      "execution_count": null,
      "outputs": [
        {
          "output_type": "execute_result",
          "data": {
            "text/plain": [
              "<matplotlib.axes._subplots.AxesSubplot at 0x7fa9974bc110>"
            ]
          },
          "metadata": {
            "tags": []
          },
          "execution_count": 87
        },
        {
          "output_type": "display_data",
          "data": {
            "image/png": "[encoded data removed]",
            "text/plain": [
              "<Figure size 432x288 with 2 Axes>"
            ]
          },
          "metadata": {
            "tags": [],
            "needs_background": "light"
          }
        }
      ]
    },
    {
      "cell_type": "code",
      "metadata": {
        "id": "BrzuBoOhz5QD"
      },
      "source": [
        "from sklearn.ensemble import RandomForestRegressor #!!!!"
      ],
      "execution_count": null,
      "outputs": []
    },
    {
      "cell_type": "code",
      "metadata": {
        "id": "IjRgJr0s0rNy"
      },
      "source": [
        "from sklearn.metrics import accuracy_score"
      ],
      "execution_count": null,
      "outputs": []
    },
    {
      "cell_type": "code",
      "metadata": {
        "id": "1AuVs9hF9F15"
      },
      "source": [
        ""
      ],
      "execution_count": null,
      "outputs": []
    },
    {
      "cell_type": "code",
      "metadata": {
        "id": "ahpkng_p0kl4"
      },
      "source": [
        "rf_reg = make_pipeline(prep_pipe, RandomForestRegressor()) \n",
        "params = {\"pipeline__simpleimputer__strategy\": ['mean', 'median'],\n",
        "          \"randomforestregressor__n_estimators\": [100]\n",
        "}\n",
        "\n",
        "rf_search = RandomizedSearchCV(rf_reg, params, n_iter=1, scoring='neg_mean_absolute_error', cv=3, n_jobs=-1)"
      ],
      "execution_count": null,
      "outputs": []
    },
    {
      "cell_type": "code",
      "metadata": {
        "colab": {
          "base_uri": "https://localhost:8080/"
        },
        "id": "O9YiyPzywSZm",
        "outputId": "b5e4a311-e3e0-46c2-bb78-024f17bfd4f4"
      },
      "source": [
        "rf_search.fit(X_train, y_train)"
      ],
      "execution_count": null,
      "outputs": [
        {
          "output_type": "stream",
          "text": [
            "is_categorical is deprecated and will be removed in a future version.  Use is_categorical_dtype instead\n"
          ],
          "name": "stderr"
        },
        {
          "output_type": "execute_result",
          "data": {
            "text/plain": [
              "RandomizedSearchCV(cv=3,\n",
              "                   estimator=Pipeline(steps=[('pipeline',\n",
              "                                              Pipeline(steps=[('binaryencoder',\n",
              "                                                               BinaryEncoder()),\n",
              "                                                              ('simpleimputer',\n",
              "                                                               SimpleImputer())])),\n",
              "                                             ('randomforestregressor',\n",
              "                                              RandomForestRegressor())]),\n",
              "                   n_iter=1, n_jobs=-1,\n",
              "                   param_distributions={'pipeline__simpleimputer__strategy': ['mean',\n",
              "                                                                              'median'],\n",
              "                                        'randomforestregressor__n_estimators': [100]},\n",
              "                   scoring='neg_mean_absolute_error')"
            ]
          },
          "metadata": {
            "tags": []
          },
          "execution_count": 255
        }
      ]
    },
    {
      "cell_type": "code",
      "metadata": {
        "colab": {
          "base_uri": "https://localhost:8080/"
        },
        "id": "3dn5KQZDw3SY",
        "outputId": "c7580af2-31bb-4fad-ec88-42c3e12f3939"
      },
      "source": [
        "rf_search.cv_results_"
      ],
      "execution_count": null,
      "outputs": [
        {
          "output_type": "execute_result",
          "data": {
            "text/plain": [
              "{'mean_fit_time': array([36.24445764]),\n",
              " 'mean_score_time': array([0.44240435]),\n",
              " 'mean_test_score': array([-0.17081388]),\n",
              " 'param_pipeline__simpleimputer__strategy': masked_array(data=['mean'],\n",
              "              mask=[False],\n",
              "        fill_value='?',\n",
              "             dtype=object),\n",
              " 'param_randomforestregressor__n_estimators': masked_array(data=[100],\n",
              "              mask=[False],\n",
              "        fill_value='?',\n",
              "             dtype=object),\n",
              " 'params': [{'pipeline__simpleimputer__strategy': 'mean',\n",
              "   'randomforestregressor__n_estimators': 100}],\n",
              " 'rank_test_score': array([1], dtype=int32),\n",
              " 'split0_test_score': array([-0.17125713]),\n",
              " 'split1_test_score': array([-0.17038716]),\n",
              " 'split2_test_score': array([-0.17079735]),\n",
              " 'std_fit_time': array([5.44906117]),\n",
              " 'std_score_time': array([0.0498036]),\n",
              " 'std_test_score': array([0.00035536])}"
            ]
          },
          "metadata": {
            "tags": []
          },
          "execution_count": 256
        }
      ]
    },
    {
      "cell_type": "code",
      "metadata": {
        "id": "EX4g85OEAm69"
      },
      "source": [
        "import xgboost as xgb\n",
        "param = {'max_depth':2, 'eta':1, 'objective':'multi:softmax' }\n",
        "X_train, X_test, y_train, y_test = train_test_split(X, df[target])\n",
        "_xgb = xgb.sklearn.XGBClassifier(objective='muti:softmax')\n",
        "_xgb_p = make_pipeline(prep_pipe, _xgb)"
      ],
      "execution_count": null,
      "outputs": []
    },
    {
      "cell_type": "code",
      "metadata": {
        "colab": {
          "base_uri": "https://localhost:8080/"
        },
        "id": "WQja456ECpOJ",
        "outputId": "e4a60a51-3c1e-4d01-a904-0e64a8af0394"
      },
      "source": [
        "_xgb_p.fit(X_train, y_train)"
      ],
      "execution_count": null,
      "outputs": [
        {
          "output_type": "stream",
          "text": [
            "/usr/local/lib/python3.7/dist-packages/category_encoders/utils.py:21: FutureWarning: is_categorical is deprecated and will be removed in a future version.  Use is_categorical_dtype instead\n",
            "  elif pd.api.types.is_categorical(cols):\n"
          ],
          "name": "stderr"
        },
        {
          "output_type": "execute_result",
          "data": {
            "text/plain": [
              "Pipeline(steps=[('pipeline',\n",
              "                 Pipeline(steps=[('binaryencoder', BinaryEncoder()),\n",
              "                                 ('simpleimputer', SimpleImputer())])),\n",
              "                ('xgbclassifier', XGBClassifier(objective='multi:softprob'))])"
            ]
          },
          "metadata": {
            "tags": []
          },
          "execution_count": 195
        }
      ]
    },
    {
      "cell_type": "code",
      "metadata": {
        "id": "tuW1MdxBC_ak"
      },
      "source": [
        "_xgb.predict(a)"
      ],
      "execution_count": null,
      "outputs": []
    },
    {
      "cell_type": "code",
      "metadata": {
        "colab": {
          "base_uri": "https://localhost:8080/",
          "height": 312
        },
        "id": "jLoYeRu3AAur",
        "outputId": "f8a1255a-e845-4c37-843e-bfc4a8393e11"
      },
      "source": [
        "skplt.metrics.plot_confusion_matrix(y_test, _xgb_p.predict(X_test))"
      ],
      "execution_count": null,
      "outputs": [
        {
          "output_type": "execute_result",
          "data": {
            "text/plain": [
              "<matplotlib.axes._subplots.AxesSubplot at 0x7fa98d30d850>"
            ]
          },
          "metadata": {
            "tags": []
          },
          "execution_count": 198
        },
        {
          "output_type": "display_data",
          "data": {
            "image/png": "[encoded data removed]",
            "text/plain": [
              "<Figure size 432x288 with 2 Axes>"
            ]
          },
          "metadata": {
            "tags": [],
            "needs_background": "light"
          }
        }
      ]
    },
    {
      "cell_type": "code",
      "metadata": {
        "colab": {
          "base_uri": "https://localhost:8080/",
          "height": 367
        },
        "id": "I3tNnThHDWhn",
        "outputId": "6fb601a6-ff5e-41fc-a331-f0752b740abf"
      },
      "source": [
        "skplt.metrics.plot_roc_curve(y_test, _xgb_p.predict_proba(X_test))"
      ],
      "execution_count": null,
      "outputs": [
        {
          "output_type": "stream",
          "text": [
            "/usr/local/lib/python3.7/dist-packages/sklearn/utils/deprecation.py:86: FutureWarning: Function plot_roc_curve is deprecated; This will be removed in v0.5.0. Please use scikitplot.metrics.plot_roc instead.\n",
            "  warnings.warn(msg, category=FutureWarning)\n"
          ],
          "name": "stderr"
        },
        {
          "output_type": "execute_result",
          "data": {
            "text/plain": [
              "<matplotlib.axes._subplots.AxesSubplot at 0x7fa98d27b810>"
            ]
          },
          "metadata": {
            "tags": []
          },
          "execution_count": 200
        },
        {
          "output_type": "display_data",
          "data": {
            "image/png": "[encoded data removed]",
            "text/plain": [
              "<Figure size 432x288 with 1 Axes>"
            ]
          },
          "metadata": {
            "tags": [],
            "needs_background": "light"
          }
        }
      ]
    },
    {
      "cell_type": "markdown",
      "metadata": {
        "id": "WsA0QQL5H0QX"
      },
      "source": [
        "With more time, I'd go ahead and try 'correcting' the imbalanced dataset."
      ]
    },
    {
      "cell_type": "code",
      "metadata": {
        "colab": {
          "base_uri": "https://localhost:8080/",
          "height": 367
        },
        "id": "6YvToxfNDgx_",
        "outputId": "ba862ab9-ae30-4432-f8a5-0c7aae4988ed"
      },
      "source": [
        "skplt.metrics.plot_precision_recall_curve(y_test, _xgb_p.predict_proba(X_test))"
      ],
      "execution_count": null,
      "outputs": [
        {
          "output_type": "stream",
          "text": [
            "/usr/local/lib/python3.7/dist-packages/sklearn/utils/deprecation.py:86: FutureWarning: Function plot_precision_recall_curve is deprecated; This will be removed in v0.5.0. Please use scikitplot.metrics.plot_precision_recall instead.\n",
            "  warnings.warn(msg, category=FutureWarning)\n"
          ],
          "name": "stderr"
        },
        {
          "output_type": "execute_result",
          "data": {
            "text/plain": [
              "<matplotlib.axes._subplots.AxesSubplot at 0x7fa98d1d8cd0>"
            ]
          },
          "metadata": {
            "tags": []
          },
          "execution_count": 201
        },
        {
          "output_type": "display_data",
          "data": {
            "image/png": "[encoded data removed]",
            "text/plain": [
              "<Figure size 432x288 with 1 Axes>"
            ]
          },
          "metadata": {
            "tags": [],
            "needs_background": "light"
          }
        }
      ]
    },
    {
      "cell_type": "code",
      "metadata": {
        "colab": {
          "base_uri": "https://localhost:8080/"
        },
        "id": "Xxz2KoKq02NM",
        "outputId": "4d0256a5-65f2-4086-9ae2-e4d5611fe4a5"
      },
      "source": [
        "target = 'volatile'\n",
        "rf_reg.fit(df.drop(target, axis=1), df[target])"
      ],
      "execution_count": null,
      "outputs": [
        {
          "output_type": "stream",
          "text": [
            "/usr/local/lib/python3.7/dist-packages/category_encoders/utils.py:21: FutureWarning: is_categorical is deprecated and will be removed in a future version.  Use is_categorical_dtype instead\n",
            "  elif pd.api.types.is_categorical(cols):\n"
          ],
          "name": "stderr"
        },
        {
          "output_type": "execute_result",
          "data": {
            "text/plain": [
              "Pipeline(steps=[('pipeline',\n",
              "                 Pipeline(steps=[('binaryencoder', BinaryEncoder()),\n",
              "                                 ('simpleimputer', SimpleImputer())])),\n",
              "                ('randomforestregressor', RandomForestRegressor())])"
            ]
          },
          "metadata": {
            "tags": []
          },
          "execution_count": 94
        }
      ]
    },
    {
      "cell_type": "code",
      "metadata": {
        "id": "X_9bF9nV1hMe"
      },
      "source": [
        "import scikitplot as skplt"
      ],
      "execution_count": null,
      "outputs": []
    },
    {
      "cell_type": "code",
      "metadata": {
        "id": "SBr47SRC07e7"
      },
      "source": [
        "simp_preds= rf_reg.predict(df.drop(target, axis=1))"
      ],
      "execution_count": null,
      "outputs": []
    },
    {
      "cell_type": "code",
      "metadata": {
        "colab": {
          "base_uri": "https://localhost:8080/"
        },
        "id": "-ExNwjT_1lJt",
        "outputId": "69c0c2b7-4904-4502-864c-57c6ad45dbe0"
      },
      "source": [
        "simp_preds"
      ],
      "execution_count": null,
      "outputs": [
        {
          "output_type": "execute_result",
          "data": {
            "text/plain": [
              "array([ 0.62, -1.  ,  0.72, ...,  0.98,  1.  , -0.02])"
            ]
          },
          "metadata": {
            "tags": []
          },
          "execution_count": 100
        }
      ]
    },
    {
      "cell_type": "code",
      "metadata": {
        "id": "GHQk1_9x1zgZ"
      },
      "source": [
        "import scikitplot as skplt"
      ],
      "execution_count": null,
      "outputs": []
    },
    {
      "cell_type": "code",
      "metadata": {
        "colab": {
          "base_uri": "https://localhost:8080/",
          "height": 337
        },
        "id": "fxW1Si1D1777",
        "outputId": "14910e01-0618-42f8-95b6-35a82ef9192f"
      },
      "source": [
        "sns.scatterplot(simp_preds, df[target])"
      ],
      "execution_count": null,
      "outputs": [
        {
          "output_type": "stream",
          "text": [
            "/usr/local/lib/python3.7/dist-packages/seaborn/_decorators.py:43: FutureWarning: Pass the following variables as keyword args: x, y. From version 0.12, the only valid positional argument will be `data`, and passing other arguments without an explicit keyword will result in an error or misinterpretation.\n",
            "  FutureWarning\n"
          ],
          "name": "stderr"
        },
        {
          "output_type": "execute_result",
          "data": {
            "text/plain": [
              "<matplotlib.axes._subplots.AxesSubplot at 0x7fa9976dedd0>"
            ]
          },
          "metadata": {
            "tags": []
          },
          "execution_count": 105
        },
        {
          "output_type": "display_data",
          "data": {
            "image/png": "[encoded data removed]",
            "text/plain": [
              "<Figure size 432x288 with 1 Axes>"
            ]
          },
          "metadata": {
            "tags": [],
            "needs_background": "light"
          }
        }
      ]
    },
    {
      "cell_type": "code",
      "metadata": {
        "colab": {
          "base_uri": "https://localhost:8080/"
        },
        "id": "bx1tMtHZ4ui4",
        "outputId": "9d2b22dc-b8ca-41be-f328-e124ae3e14d0"
      },
      "source": [
        "rf_reg.named_steps"
      ],
      "execution_count": null,
      "outputs": [
        {
          "output_type": "execute_result",
          "data": {
            "text/plain": [
              "{'pipeline': Pipeline(steps=[('binaryencoder', BinaryEncoder()),\n",
              "                 ('simpleimputer', SimpleImputer())]),\n",
              " 'randomforestregressor': RandomForestRegressor()}"
            ]
          },
          "metadata": {
            "tags": []
          },
          "execution_count": 140
        }
      ]
    },
    {
      "cell_type": "code",
      "metadata": {
        "id": "3pwOdQaL3B05"
      },
      "source": [
        "X = df.drop(target, axis=1)"
      ],
      "execution_count": null,
      "outputs": []
    },
    {
      "cell_type": "markdown",
      "metadata": {
        "id": "sNsJDsZG5PM9"
      },
      "source": [
        "Binarizer is screwing up the feature imp! "
      ]
    },
    {
      "cell_type": "code",
      "metadata": {
        "colab": {
          "base_uri": "https://localhost:8080/"
        },
        "id": "dXG9e25g2KZD",
        "outputId": "0d9cbc69-4521-4257-bda5-17088fbe4758"
      },
      "source": [
        "zip(X.columns, rf_reg.steps[1][1].feature_importances_)"
      ],
      "execution_count": null,
      "outputs": [
        {
          "output_type": "execute_result",
          "data": {
            "text/plain": [
              "array([2.80743861e-02, 6.18213130e-02, 7.00504038e-01, 6.70693251e-02,\n",
              "       6.12398555e-02, 4.43328538e-02, 0.00000000e+00, 3.10191456e-03,\n",
              "       4.64277913e-03, 4.97176761e-03, 6.14090485e-03, 6.07816748e-03,\n",
              "       5.94453427e-03, 6.01580989e-03, 6.23503648e-05])"
            ]
          },
          "metadata": {
            "tags": []
          },
          "execution_count": 111
        }
      ]
    },
    {
      "cell_type": "code",
      "metadata": {
        "colab": {
          "base_uri": "https://localhost:8080/"
        },
        "id": "UUraqgKo5Udd",
        "outputId": "b76d0202-d33b-4dc0-d78c-8522b9157850"
      },
      "source": [
        "prep_pipe.fit(X)\n",
        "cols = prep_pipe.steps[0][1].get_feature_names()"
      ],
      "execution_count": null,
      "outputs": [
        {
          "output_type": "stream",
          "text": [
            "/usr/local/lib/python3.7/dist-packages/category_encoders/utils.py:21: FutureWarning: is_categorical is deprecated and will be removed in a future version.  Use is_categorical_dtype instead\n",
            "  elif pd.api.types.is_categorical(cols):\n"
          ],
          "name": "stderr"
        }
      ]
    },
    {
      "cell_type": "code",
      "metadata": {
        "id": "5h_VsYSV2wEJ"
      },
      "source": [
        "feat_imp = pd.DataFrame(dict(imp = rf_reg.steps[1][1].feature_importances_, feat = cols))"
      ],
      "execution_count": null,
      "outputs": []
    },
    {
      "cell_type": "code",
      "metadata": {
        "colab": {
          "base_uri": "https://localhost:8080/",
          "height": 623
        },
        "id": "CONkWweA3Pgs",
        "outputId": "6f761dfe-6607-4f3c-9aee-48c5e6c1cf74"
      },
      "source": [
        "fig, ax = plt.subplots(figsize=[15,10])\n",
        "sns.barplot(data=feat_imp.sort_values(by='imp',ascending=False), x='feat', y='imp')"
      ],
      "execution_count": null,
      "outputs": [
        {
          "output_type": "execute_result",
          "data": {
            "text/plain": [
              "<matplotlib.axes._subplots.AxesSubplot at 0x7fa997607790>"
            ]
          },
          "metadata": {
            "tags": []
          },
          "execution_count": 163
        },
        {
          "output_type": "display_data",
          "data": {
            "image/png": "[encoded data removed]",
            "text/plain": [
              "<Figure size 1080x720 with 1 Axes>"
            ]
          },
          "metadata": {
            "tags": [],
            "needs_background": "light"
          }
        }
      ]
    },
    {
      "cell_type": "markdown",
      "metadata": {
        "id": "dHlpMZEU60Nt"
      },
      "source": [
        "Lets try on a test set"
      ]
    },
    {
      "cell_type": "code",
      "metadata": {
        "colab": {
          "base_uri": "https://localhost:8080/"
        },
        "id": "EBWkxMh-_bLh",
        "outputId": "86ea8ee8-6ef8-49f4-ec45-222c69efa9b2"
      },
      "source": [
        "rf_reg.fit(X_train, y_train)"
      ],
      "execution_count": null,
      "outputs": [
        {
          "output_type": "stream",
          "text": [
            "is_categorical is deprecated and will be removed in a future version.  Use is_categorical_dtype instead\n"
          ],
          "name": "stderr"
        },
        {
          "output_type": "execute_result",
          "data": {
            "text/plain": [
              "Pipeline(steps=[('pipeline',\n",
              "                 Pipeline(steps=[('binaryencoder', BinaryEncoder()),\n",
              "                                 ('simpleimputer', SimpleImputer())])),\n",
              "                ('randomforestregressor', RandomForestRegressor())])"
            ]
          },
          "metadata": {
            "tags": []
          },
          "execution_count": 272
        }
      ]
    },
    {
      "cell_type": "code",
      "metadata": {
        "colab": {
          "base_uri": "https://localhost:8080/"
        },
        "id": "A2AuCdTM3rOG",
        "outputId": "149edbb5-326f-4f6c-ad16-d5ec0459ee5d"
      },
      "source": [
        "accuracy_score(y_true=y_test, y_pred=np.rint(rf_reg.predict(X_test)))"
      ],
      "execution_count": null,
      "outputs": [
        {
          "output_type": "execute_result",
          "data": {
            "text/plain": [
              "0.8839467806157133"
            ]
          },
          "metadata": {
            "tags": []
          },
          "execution_count": 274
        }
      ]
    },
    {
      "cell_type": "code",
      "metadata": {
        "id": "re8D1Elj7ZSZ"
      },
      "source": [
        "# precision recall curve"
      ],
      "execution_count": null,
      "outputs": []
    },
    {
      "cell_type": "code",
      "metadata": {
        "colab": {
          "base_uri": "https://localhost:8080/"
        },
        "id": "ZMA-rCM3EJ2U",
        "outputId": "64d3dd02-9a84-48e6-803b-d85b7ff66540"
      },
      "source": [
        "!ls"
      ],
      "execution_count": null,
      "outputs": [
        {
          "output_type": "stream",
          "text": [
            "sample_data  sliced_data.csv  sliced_holdout_data.csv\n"
          ],
          "name": "stdout"
        }
      ]
    },
    {
      "cell_type": "code",
      "metadata": {
        "id": "qiBec5jz_8Ld"
      },
      "source": [
        "hold_out = pd.read_csv('sliced_holdout_data.csv')"
      ],
      "execution_count": null,
      "outputs": []
    },
    {
      "cell_type": "markdown",
      "metadata": {
        "id": "VeqKZG_CC9Jj"
      },
      "source": [
        "First submission? "
      ]
    },
    {
      "cell_type": "code",
      "metadata": {
        "colab": {
          "base_uri": "https://localhost:8080/"
        },
        "id": "Ic_MvkCLGAMa",
        "outputId": "771d2982-a6cc-4142-fc6f-a053240f720e"
      },
      "source": [
        "hold_out.columns"
      ],
      "execution_count": null,
      "outputs": [
        {
          "output_type": "execute_result",
          "data": {
            "text/plain": [
              "Index(['year', 'avg', 'gain', 'peak', 'avg_peak_perc', 'month_num',\n",
              "       'yearmonth', 'clusters'],\n",
              "      dtype='object')"
            ]
          },
          "metadata": {
            "tags": []
          },
          "execution_count": 236
        }
      ]
    },
    {
      "cell_type": "code",
      "metadata": {
        "colab": {
          "base_uri": "https://localhost:8080/"
        },
        "id": "Jhq2LIVuF-P3",
        "outputId": "e4984240-a192-419e-c82e-c8647fa1fca1"
      },
      "source": [
        "X_train.columns"
      ],
      "execution_count": null,
      "outputs": [
        {
          "output_type": "execute_result",
          "data": {
            "text/plain": [
              "Index(['year', 'avg', 'gain', 'peak', 'avg_peak_perc', 'month_num',\n",
              "       'yearmonth', 'cluster'],\n",
              "      dtype='object')"
            ]
          },
          "metadata": {
            "tags": []
          },
          "execution_count": 238
        }
      ]
    },
    {
      "cell_type": "code",
      "metadata": {
        "colab": {
          "base_uri": "https://localhost:8080/"
        },
        "id": "jw6kfa0eES4-",
        "outputId": "b2993d15-9671-4db8-dc01-f751a1786c4e"
      },
      "source": [
        "_xgb_p.fit(X, df['volatile'])"
      ],
      "execution_count": null,
      "outputs": [
        {
          "output_type": "stream",
          "text": [
            "is_categorical is deprecated and will be removed in a future version.  Use is_categorical_dtype instead\n"
          ],
          "name": "stderr"
        },
        {
          "output_type": "execute_result",
          "data": {
            "text/plain": [
              "Pipeline(steps=[('pipeline',\n",
              "                 Pipeline(steps=[('binaryencoder', BinaryEncoder()),\n",
              "                                 ('simpleimputer', SimpleImputer())])),\n",
              "                ('xgbclassifier', XGBClassifier(objective='multi:softprob'))])"
            ]
          },
          "metadata": {
            "tags": []
          },
          "execution_count": 242
        }
      ]
    },
    {
      "cell_type": "code",
      "metadata": {
        "colab": {
          "base_uri": "https://localhost:8080/"
        },
        "id": "zWODU9FUE8Za",
        "outputId": "738cbe5c-6746-46cf-e6c1-80aef545cce3"
      },
      "source": [
        "k_means_ = k_means(prep_pipe.fit_transform(hold_out), n_clusters=2)"
      ],
      "execution_count": null,
      "outputs": [
        {
          "output_type": "stream",
          "text": [
            "is_categorical is deprecated and will be removed in a future version.  Use is_categorical_dtype instead\n"
          ],
          "name": "stderr"
        }
      ]
    },
    {
      "cell_type": "code",
      "metadata": {
        "id": "QgbZX0DeFyEY"
      },
      "source": [
        "pd.DataFrame({\"preds\":_xgb_p.predict(hold_out)}).to_csv('predictions.csv')"
      ],
      "execution_count": null,
      "outputs": []
    },
    {
      "cell_type": "code",
      "metadata": {
        "id": "s0kkzYWZFvif"
      },
      "source": [
        "hold_out['clusters'] = k_means_[1]"
      ],
      "execution_count": null,
      "outputs": []
    },
    {
      "cell_type": "code",
      "metadata": {
        "colab": {
          "base_uri": "https://localhost:8080/",
          "height": 345
        },
        "id": "7rCGc9dtFJsz",
        "outputId": "a1ef931a-e12b-4fb6-b203-3a46fb9cd457"
      },
      "source": [
        "hold_out = hold_out.drop(\n",
        "['gamename', 'month'], axis=1\n",
        ")"
      ],
      "execution_count": null,
      "outputs": [
        {
          "output_type": "error",
          "ename": "KeyError",
          "evalue": "ignored",
          "traceback": [
            "\u001b[0;31m---------------------------------------------------------------------------\u001b[0m",
            "\u001b[0;31mKeyError\u001b[0m                                  Traceback (most recent call last)",
            "\u001b[0;32m<ipython-input-226-39296e08edc7>\u001b[0m in \u001b[0;36m<module>\u001b[0;34m()\u001b[0m\n\u001b[1;32m      1\u001b[0m hold_out = hold_out.drop(\n\u001b[0;32m----> 2\u001b[0;31m \u001b[0;34m[\u001b[0m\u001b[0;34m'gamename'\u001b[0m\u001b[0;34m,\u001b[0m \u001b[0;34m'month'\u001b[0m\u001b[0;34m]\u001b[0m\u001b[0;34m,\u001b[0m \u001b[0maxis\u001b[0m\u001b[0;34m=\u001b[0m\u001b[0;36m1\u001b[0m\u001b[0;34m\u001b[0m\u001b[0;34m\u001b[0m\u001b[0m\n\u001b[0m\u001b[1;32m      3\u001b[0m )\n",
            "\u001b[0;32m/usr/local/lib/python3.7/dist-packages/pandas/core/frame.py\u001b[0m in \u001b[0;36mdrop\u001b[0;34m(self, labels, axis, index, columns, level, inplace, errors)\u001b[0m\n\u001b[1;32m   4172\u001b[0m             \u001b[0mlevel\u001b[0m\u001b[0;34m=\u001b[0m\u001b[0mlevel\u001b[0m\u001b[0;34m,\u001b[0m\u001b[0;34m\u001b[0m\u001b[0;34m\u001b[0m\u001b[0m\n\u001b[1;32m   4173\u001b[0m             \u001b[0minplace\u001b[0m\u001b[0;34m=\u001b[0m\u001b[0minplace\u001b[0m\u001b[0;34m,\u001b[0m\u001b[0;34m\u001b[0m\u001b[0;34m\u001b[0m\u001b[0m\n\u001b[0;32m-> 4174\u001b[0;31m             \u001b[0merrors\u001b[0m\u001b[0;34m=\u001b[0m\u001b[0merrors\u001b[0m\u001b[0;34m,\u001b[0m\u001b[0;34m\u001b[0m\u001b[0;34m\u001b[0m\u001b[0m\n\u001b[0m\u001b[1;32m   4175\u001b[0m         )\n\u001b[1;32m   4176\u001b[0m \u001b[0;34m\u001b[0m\u001b[0m\n",
            "\u001b[0;32m/usr/local/lib/python3.7/dist-packages/pandas/core/generic.py\u001b[0m in \u001b[0;36mdrop\u001b[0;34m(self, labels, axis, index, columns, level, inplace, errors)\u001b[0m\n\u001b[1;32m   3887\u001b[0m         \u001b[0;32mfor\u001b[0m \u001b[0maxis\u001b[0m\u001b[0;34m,\u001b[0m \u001b[0mlabels\u001b[0m \u001b[0;32min\u001b[0m \u001b[0maxes\u001b[0m\u001b[0;34m.\u001b[0m\u001b[0mitems\u001b[0m\u001b[0;34m(\u001b[0m\u001b[0;34m)\u001b[0m\u001b[0;34m:\u001b[0m\u001b[0;34m\u001b[0m\u001b[0;34m\u001b[0m\u001b[0m\n\u001b[1;32m   3888\u001b[0m             \u001b[0;32mif\u001b[0m \u001b[0mlabels\u001b[0m \u001b[0;32mis\u001b[0m \u001b[0;32mnot\u001b[0m \u001b[0;32mNone\u001b[0m\u001b[0;34m:\u001b[0m\u001b[0;34m\u001b[0m\u001b[0;34m\u001b[0m\u001b[0m\n\u001b[0;32m-> 3889\u001b[0;31m                 \u001b[0mobj\u001b[0m \u001b[0;34m=\u001b[0m \u001b[0mobj\u001b[0m\u001b[0;34m.\u001b[0m\u001b[0m_drop_axis\u001b[0m\u001b[0;34m(\u001b[0m\u001b[0mlabels\u001b[0m\u001b[0;34m,\u001b[0m \u001b[0maxis\u001b[0m\u001b[0;34m,\u001b[0m \u001b[0mlevel\u001b[0m\u001b[0;34m=\u001b[0m\u001b[0mlevel\u001b[0m\u001b[0;34m,\u001b[0m \u001b[0merrors\u001b[0m\u001b[0;34m=\u001b[0m\u001b[0merrors\u001b[0m\u001b[0;34m)\u001b[0m\u001b[0;34m\u001b[0m\u001b[0;34m\u001b[0m\u001b[0m\n\u001b[0m\u001b[1;32m   3890\u001b[0m \u001b[0;34m\u001b[0m\u001b[0m\n\u001b[1;32m   3891\u001b[0m         \u001b[0;32mif\u001b[0m \u001b[0minplace\u001b[0m\u001b[0;34m:\u001b[0m\u001b[0;34m\u001b[0m\u001b[0;34m\u001b[0m\u001b[0m\n",
            "\u001b[0;32m/usr/local/lib/python3.7/dist-packages/pandas/core/generic.py\u001b[0m in \u001b[0;36m_drop_axis\u001b[0;34m(self, labels, axis, level, errors)\u001b[0m\n\u001b[1;32m   3921\u001b[0m                 \u001b[0mnew_axis\u001b[0m \u001b[0;34m=\u001b[0m \u001b[0maxis\u001b[0m\u001b[0;34m.\u001b[0m\u001b[0mdrop\u001b[0m\u001b[0;34m(\u001b[0m\u001b[0mlabels\u001b[0m\u001b[0;34m,\u001b[0m \u001b[0mlevel\u001b[0m\u001b[0;34m=\u001b[0m\u001b[0mlevel\u001b[0m\u001b[0;34m,\u001b[0m \u001b[0merrors\u001b[0m\u001b[0;34m=\u001b[0m\u001b[0merrors\u001b[0m\u001b[0;34m)\u001b[0m\u001b[0;34m\u001b[0m\u001b[0;34m\u001b[0m\u001b[0m\n\u001b[1;32m   3922\u001b[0m             \u001b[0;32melse\u001b[0m\u001b[0;34m:\u001b[0m\u001b[0;34m\u001b[0m\u001b[0;34m\u001b[0m\u001b[0m\n\u001b[0;32m-> 3923\u001b[0;31m                 \u001b[0mnew_axis\u001b[0m \u001b[0;34m=\u001b[0m \u001b[0maxis\u001b[0m\u001b[0;34m.\u001b[0m\u001b[0mdrop\u001b[0m\u001b[0;34m(\u001b[0m\u001b[0mlabels\u001b[0m\u001b[0;34m,\u001b[0m \u001b[0merrors\u001b[0m\u001b[0;34m=\u001b[0m\u001b[0merrors\u001b[0m\u001b[0;34m)\u001b[0m\u001b[0;34m\u001b[0m\u001b[0;34m\u001b[0m\u001b[0m\n\u001b[0m\u001b[1;32m   3924\u001b[0m             \u001b[0mresult\u001b[0m \u001b[0;34m=\u001b[0m \u001b[0mself\u001b[0m\u001b[0;34m.\u001b[0m\u001b[0mreindex\u001b[0m\u001b[0;34m(\u001b[0m\u001b[0;34m**\u001b[0m\u001b[0;34m{\u001b[0m\u001b[0maxis_name\u001b[0m\u001b[0;34m:\u001b[0m \u001b[0mnew_axis\u001b[0m\u001b[0;34m}\u001b[0m\u001b[0;34m)\u001b[0m\u001b[0;34m\u001b[0m\u001b[0;34m\u001b[0m\u001b[0m\n\u001b[1;32m   3925\u001b[0m \u001b[0;34m\u001b[0m\u001b[0m\n",
            "\u001b[0;32m/usr/local/lib/python3.7/dist-packages/pandas/core/indexes/base.py\u001b[0m in \u001b[0;36mdrop\u001b[0;34m(self, labels, errors)\u001b[0m\n\u001b[1;32m   5285\u001b[0m         \u001b[0;32mif\u001b[0m \u001b[0mmask\u001b[0m\u001b[0;34m.\u001b[0m\u001b[0many\u001b[0m\u001b[0;34m(\u001b[0m\u001b[0;34m)\u001b[0m\u001b[0;34m:\u001b[0m\u001b[0;34m\u001b[0m\u001b[0;34m\u001b[0m\u001b[0m\n\u001b[1;32m   5286\u001b[0m             \u001b[0;32mif\u001b[0m \u001b[0merrors\u001b[0m \u001b[0;34m!=\u001b[0m \u001b[0;34m\"ignore\"\u001b[0m\u001b[0;34m:\u001b[0m\u001b[0;34m\u001b[0m\u001b[0;34m\u001b[0m\u001b[0m\n\u001b[0;32m-> 5287\u001b[0;31m                 \u001b[0;32mraise\u001b[0m \u001b[0mKeyError\u001b[0m\u001b[0;34m(\u001b[0m\u001b[0;34mf\"{labels[mask]} not found in axis\"\u001b[0m\u001b[0;34m)\u001b[0m\u001b[0;34m\u001b[0m\u001b[0;34m\u001b[0m\u001b[0m\n\u001b[0m\u001b[1;32m   5288\u001b[0m             \u001b[0mindexer\u001b[0m \u001b[0;34m=\u001b[0m \u001b[0mindexer\u001b[0m\u001b[0;34m[\u001b[0m\u001b[0;34m~\u001b[0m\u001b[0mmask\u001b[0m\u001b[0;34m]\u001b[0m\u001b[0;34m\u001b[0m\u001b[0;34m\u001b[0m\u001b[0m\n\u001b[1;32m   5289\u001b[0m         \u001b[0;32mreturn\u001b[0m \u001b[0mself\u001b[0m\u001b[0;34m.\u001b[0m\u001b[0mdelete\u001b[0m\u001b[0;34m(\u001b[0m\u001b[0mindexer\u001b[0m\u001b[0;34m)\u001b[0m\u001b[0;34m\u001b[0m\u001b[0;34m\u001b[0m\u001b[0m\n",
            "\u001b[0;31mKeyError\u001b[0m: \"['gamename' 'month'] not found in axis\""
          ]
        }
      ]
    },
    {
      "cell_type": "code",
      "metadata": {
        "id": "ezQ9Od1wFfiZ"
      },
      "source": [
        "\n",
        "hold_out['avg_peak_perc'] = hold_out['avg_peak_perc'].str[:-1].astype(float)"
      ],
      "execution_count": null,
      "outputs": []
    },
    {
      "cell_type": "code",
      "metadata": {
        "colab": {
          "base_uri": "https://localhost:8080/",
          "height": 424
        },
        "id": "T70mQfmQFXcO",
        "outputId": "dc54a506-c09a-4fd5-8b91-67b1fb06cb96"
      },
      "source": [
        "hold_out"
      ],
      "execution_count": null,
      "outputs": [
        {
          "output_type": "execute_result",
          "data": {
            "text/html": [
              "<div>\n",
              "<style scoped>\n",
              "    .dataframe tbody tr th:only-of-type {\n",
              "        vertical-align: middle;\n",
              "    }\n",
              "\n",
              "    .dataframe tbody tr th {\n",
              "        vertical-align: top;\n",
              "    }\n",
              "\n",
              "    .dataframe thead th {\n",
              "        text-align: right;\n",
              "    }\n",
              "</style>\n",
              "<table border=\"1\" class=\"dataframe\">\n",
              "  <thead>\n",
              "    <tr style=\"text-align: right;\">\n",
              "      <th></th>\n",
              "      <th>year</th>\n",
              "      <th>avg</th>\n",
              "      <th>gain</th>\n",
              "      <th>peak</th>\n",
              "      <th>avg_peak_perc</th>\n",
              "      <th>month_num</th>\n",
              "      <th>yearmonth</th>\n",
              "      <th>clusters</th>\n",
              "    </tr>\n",
              "  </thead>\n",
              "  <tbody>\n",
              "    <tr>\n",
              "      <th>0</th>\n",
              "      <td>2021</td>\n",
              "      <td>5996.39</td>\n",
              "      <td>-286.38</td>\n",
              "      <td>10565</td>\n",
              "      <td>56.7571</td>\n",
              "      <td>2</td>\n",
              "      <td>2021-02-01</td>\n",
              "      <td>0</td>\n",
              "    </tr>\n",
              "    <tr>\n",
              "      <th>1</th>\n",
              "      <td>2021</td>\n",
              "      <td>6282.77</td>\n",
              "      <td>483.59</td>\n",
              "      <td>10446</td>\n",
              "      <td>60.1452</td>\n",
              "      <td>1</td>\n",
              "      <td>2021-01-01</td>\n",
              "      <td>0</td>\n",
              "    </tr>\n",
              "    <tr>\n",
              "      <th>2</th>\n",
              "      <td>2020</td>\n",
              "      <td>5799.18</td>\n",
              "      <td>-366.68</td>\n",
              "      <td>9478</td>\n",
              "      <td>61.1857</td>\n",
              "      <td>12</td>\n",
              "      <td>2020-12-01</td>\n",
              "      <td>0</td>\n",
              "    </tr>\n",
              "    <tr>\n",
              "      <th>3</th>\n",
              "      <td>2020</td>\n",
              "      <td>6165.86</td>\n",
              "      <td>229.31</td>\n",
              "      <td>10453</td>\n",
              "      <td>58.9865</td>\n",
              "      <td>11</td>\n",
              "      <td>2020-11-01</td>\n",
              "      <td>0</td>\n",
              "    </tr>\n",
              "    <tr>\n",
              "      <th>4</th>\n",
              "      <td>2020</td>\n",
              "      <td>5936.55</td>\n",
              "      <td>-258.72</td>\n",
              "      <td>10084</td>\n",
              "      <td>58.8710</td>\n",
              "      <td>10</td>\n",
              "      <td>2020-10-01</td>\n",
              "      <td>0</td>\n",
              "    </tr>\n",
              "    <tr>\n",
              "      <th>...</th>\n",
              "      <td>...</td>\n",
              "      <td>...</td>\n",
              "      <td>...</td>\n",
              "      <td>...</td>\n",
              "      <td>...</td>\n",
              "      <td>...</td>\n",
              "      <td>...</td>\n",
              "      <td>...</td>\n",
              "    </tr>\n",
              "    <tr>\n",
              "      <th>98</th>\n",
              "      <td>2012</td>\n",
              "      <td>25620.41</td>\n",
              "      <td>3561.48</td>\n",
              "      <td>52804</td>\n",
              "      <td>48.5198</td>\n",
              "      <td>12</td>\n",
              "      <td>2012-12-01</td>\n",
              "      <td>1</td>\n",
              "    </tr>\n",
              "    <tr>\n",
              "      <th>99</th>\n",
              "      <td>2012</td>\n",
              "      <td>22058.93</td>\n",
              "      <td>1780.14</td>\n",
              "      <td>46165</td>\n",
              "      <td>47.7828</td>\n",
              "      <td>11</td>\n",
              "      <td>2012-11-01</td>\n",
              "      <td>1</td>\n",
              "    </tr>\n",
              "    <tr>\n",
              "      <th>100</th>\n",
              "      <td>2012</td>\n",
              "      <td>20278.78</td>\n",
              "      <td>693.40</td>\n",
              "      <td>41939</td>\n",
              "      <td>48.3530</td>\n",
              "      <td>10</td>\n",
              "      <td>2012-10-01</td>\n",
              "      <td>1</td>\n",
              "    </tr>\n",
              "    <tr>\n",
              "      <th>101</th>\n",
              "      <td>2012</td>\n",
              "      <td>19585.39</td>\n",
              "      <td>-8320.02</td>\n",
              "      <td>38557</td>\n",
              "      <td>50.7959</td>\n",
              "      <td>9</td>\n",
              "      <td>2012-09-01</td>\n",
              "      <td>1</td>\n",
              "    </tr>\n",
              "    <tr>\n",
              "      <th>102</th>\n",
              "      <td>2012</td>\n",
              "      <td>27905.40</td>\n",
              "      <td>3651.31</td>\n",
              "      <td>55230</td>\n",
              "      <td>50.5258</td>\n",
              "      <td>8</td>\n",
              "      <td>2012-08-01</td>\n",
              "      <td>1</td>\n",
              "    </tr>\n",
              "  </tbody>\n",
              "</table>\n",
              "<p>103 rows × 8 columns</p>\n",
              "</div>"
            ],
            "text/plain": [
              "     year       avg     gain  ...  month_num   yearmonth  clusters\n",
              "0    2021   5996.39  -286.38  ...          2  2021-02-01         0\n",
              "1    2021   6282.77   483.59  ...          1  2021-01-01         0\n",
              "2    2020   5799.18  -366.68  ...         12  2020-12-01         0\n",
              "3    2020   6165.86   229.31  ...         11  2020-11-01         0\n",
              "4    2020   5936.55  -258.72  ...         10  2020-10-01         0\n",
              "..    ...       ...      ...  ...        ...         ...       ...\n",
              "98   2012  25620.41  3561.48  ...         12  2012-12-01         1\n",
              "99   2012  22058.93  1780.14  ...         11  2012-11-01         1\n",
              "100  2012  20278.78   693.40  ...         10  2012-10-01         1\n",
              "101  2012  19585.39 -8320.02  ...          9  2012-09-01         1\n",
              "102  2012  27905.40  3651.31  ...          8  2012-08-01         1\n",
              "\n",
              "[103 rows x 8 columns]"
            ]
          },
          "metadata": {
            "tags": []
          },
          "execution_count": 234
        }
      ]
    },
    {
      "cell_type": "markdown",
      "metadata": {
        "id": "ZyavPoRJFnG2"
      },
      "source": [
        "Post show curiosities"
      ]
    },
    {
      "cell_type": "code",
      "metadata": {
        "colab": {
          "base_uri": "https://localhost:8080/",
          "height": 455
        },
        "id": "ffVtVw5PGZmT",
        "outputId": "b591e5c3-ff6d-43b4-c77d-77347f759e31"
      },
      "source": [
        "X_train.set_index(\"yearmonth\")"
      ],
      "execution_count": null,
      "outputs": [
        {
          "output_type": "execute_result",
          "data": {
            "text/html": [
              "<div>\n",
              "<style scoped>\n",
              "    .dataframe tbody tr th:only-of-type {\n",
              "        vertical-align: middle;\n",
              "    }\n",
              "\n",
              "    .dataframe tbody tr th {\n",
              "        vertical-align: top;\n",
              "    }\n",
              "\n",
              "    .dataframe thead th {\n",
              "        text-align: right;\n",
              "    }\n",
              "</style>\n",
              "<table border=\"1\" class=\"dataframe\">\n",
              "  <thead>\n",
              "    <tr style=\"text-align: right;\">\n",
              "      <th></th>\n",
              "      <th>year</th>\n",
              "      <th>avg</th>\n",
              "      <th>gain</th>\n",
              "      <th>peak</th>\n",
              "      <th>avg_peak_perc</th>\n",
              "      <th>month_num</th>\n",
              "      <th>cluster</th>\n",
              "    </tr>\n",
              "    <tr>\n",
              "      <th>yearmonth</th>\n",
              "      <th></th>\n",
              "      <th></th>\n",
              "      <th></th>\n",
              "      <th></th>\n",
              "      <th></th>\n",
              "      <th></th>\n",
              "      <th></th>\n",
              "    </tr>\n",
              "  </thead>\n",
              "  <tbody>\n",
              "    <tr>\n",
              "      <th>2017-08-01</th>\n",
              "      <td>2017</td>\n",
              "      <td>10087.14</td>\n",
              "      <td>-4786.93</td>\n",
              "      <td>18445</td>\n",
              "      <td>54.6877</td>\n",
              "      <td>8</td>\n",
              "      <td>0</td>\n",
              "    </tr>\n",
              "    <tr>\n",
              "      <th>2018-07-01</th>\n",
              "      <td>2018</td>\n",
              "      <td>1285.42</td>\n",
              "      <td>-507.88</td>\n",
              "      <td>2567</td>\n",
              "      <td>50.0748</td>\n",
              "      <td>7</td>\n",
              "      <td>0</td>\n",
              "    </tr>\n",
              "    <tr>\n",
              "      <th>2016-12-01</th>\n",
              "      <td>2016</td>\n",
              "      <td>1195.14</td>\n",
              "      <td>320.02</td>\n",
              "      <td>2672</td>\n",
              "      <td>44.7283</td>\n",
              "      <td>12</td>\n",
              "      <td>0</td>\n",
              "    </tr>\n",
              "    <tr>\n",
              "      <th>2018-07-01</th>\n",
              "      <td>2018</td>\n",
              "      <td>279.83</td>\n",
              "      <td>3.14</td>\n",
              "      <td>634</td>\n",
              "      <td>44.1372</td>\n",
              "      <td>7</td>\n",
              "      <td>0</td>\n",
              "    </tr>\n",
              "    <tr>\n",
              "      <th>2019-06-01</th>\n",
              "      <td>2019</td>\n",
              "      <td>87.84</td>\n",
              "      <td>8.81</td>\n",
              "      <td>205</td>\n",
              "      <td>42.8488</td>\n",
              "      <td>6</td>\n",
              "      <td>0</td>\n",
              "    </tr>\n",
              "    <tr>\n",
              "      <th>...</th>\n",
              "      <td>...</td>\n",
              "      <td>...</td>\n",
              "      <td>...</td>\n",
              "      <td>...</td>\n",
              "      <td>...</td>\n",
              "      <td>...</td>\n",
              "      <td>...</td>\n",
              "    </tr>\n",
              "    <tr>\n",
              "      <th>2020-07-01</th>\n",
              "      <td>2020</td>\n",
              "      <td>46.29</td>\n",
              "      <td>-8.14</td>\n",
              "      <td>99</td>\n",
              "      <td>46.7576</td>\n",
              "      <td>7</td>\n",
              "      <td>0</td>\n",
              "    </tr>\n",
              "    <tr>\n",
              "      <th>2020-01-01</th>\n",
              "      <td>2020</td>\n",
              "      <td>186.06</td>\n",
              "      <td>-65.97</td>\n",
              "      <td>494</td>\n",
              "      <td>37.6640</td>\n",
              "      <td>1</td>\n",
              "      <td>0</td>\n",
              "    </tr>\n",
              "    <tr>\n",
              "      <th>2014-01-01</th>\n",
              "      <td>2014</td>\n",
              "      <td>993.72</td>\n",
              "      <td>-756.07</td>\n",
              "      <td>2178</td>\n",
              "      <td>45.6253</td>\n",
              "      <td>1</td>\n",
              "      <td>0</td>\n",
              "    </tr>\n",
              "    <tr>\n",
              "      <th>2017-12-01</th>\n",
              "      <td>2017</td>\n",
              "      <td>180.38</td>\n",
              "      <td>52.09</td>\n",
              "      <td>514</td>\n",
              "      <td>35.0934</td>\n",
              "      <td>12</td>\n",
              "      <td>0</td>\n",
              "    </tr>\n",
              "    <tr>\n",
              "      <th>2017-09-01</th>\n",
              "      <td>2017</td>\n",
              "      <td>73.44</td>\n",
              "      <td>40.08</td>\n",
              "      <td>280</td>\n",
              "      <td>26.2286</td>\n",
              "      <td>9</td>\n",
              "      <td>0</td>\n",
              "    </tr>\n",
              "  </tbody>\n",
              "</table>\n",
              "<p>61779 rows × 7 columns</p>\n",
              "</div>"
            ],
            "text/plain": [
              "            year       avg     gain   peak  avg_peak_perc  month_num  cluster\n",
              "yearmonth                                                                    \n",
              "2017-08-01  2017  10087.14 -4786.93  18445        54.6877          8        0\n",
              "2018-07-01  2018   1285.42  -507.88   2567        50.0748          7        0\n",
              "2016-12-01  2016   1195.14   320.02   2672        44.7283         12        0\n",
              "2018-07-01  2018    279.83     3.14    634        44.1372          7        0\n",
              "2019-06-01  2019     87.84     8.81    205        42.8488          6        0\n",
              "...          ...       ...      ...    ...            ...        ...      ...\n",
              "2020-07-01  2020     46.29    -8.14     99        46.7576          7        0\n",
              "2020-01-01  2020    186.06   -65.97    494        37.6640          1        0\n",
              "2014-01-01  2014    993.72  -756.07   2178        45.6253          1        0\n",
              "2017-12-01  2017    180.38    52.09    514        35.0934         12        0\n",
              "2017-09-01  2017     73.44    40.08    280        26.2286          9        0\n",
              "\n",
              "[61779 rows x 7 columns]"
            ]
          },
          "metadata": {
            "tags": []
          },
          "execution_count": 252
        }
      ]
    },
    {
      "cell_type": "code",
      "metadata": {
        "id": "l1VU-1zOvCBD"
      },
      "source": [
        ""
      ],
      "execution_count": null,
      "outputs": []
    }
  ]
}